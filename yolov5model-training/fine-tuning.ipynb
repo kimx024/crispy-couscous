{
 "cells": [
  {
   "metadata": {
    "ExecuteTime": {
     "end_time": "2024-05-23T09:11:28.078456Z",
     "start_time": "2024-05-23T09:11:20.716073Z"
    }
   },
   "cell_type": "code",
   "source": "!pip install clearml",
   "id": "76e827789609e78d",
   "outputs": [
    {
     "name": "stdout",
     "output_type": "stream",
     "text": [
      "Collecting clearml\r\n",
      "  Downloading clearml-1.16.1-py2.py3-none-any.whl.metadata (17 kB)\r\n",
      "Requirement already satisfied: attrs>=18.0 in /Users/kim.lichtenberg/Desktop/kim-fifa/crispy-couscous/.venv/lib/python3.10/site-packages (from clearml) (23.2.0)\r\n",
      "Collecting furl>=2.0.0 (from clearml)\r\n",
      "  Downloading furl-2.1.3-py2.py3-none-any.whl.metadata (1.2 kB)\r\n",
      "Requirement already satisfied: jsonschema>=2.6.0 in /Users/kim.lichtenberg/Desktop/kim-fifa/crispy-couscous/.venv/lib/python3.10/site-packages (from clearml) (4.21.1)\r\n",
      "Requirement already satisfied: numpy>=1.10 in /Users/kim.lichtenberg/Desktop/kim-fifa/crispy-couscous/.venv/lib/python3.10/site-packages (from clearml) (1.23.5)\r\n",
      "Collecting pathlib2>=2.3.0 (from clearml)\r\n",
      "  Downloading pathlib2-2.3.7.post1-py2.py3-none-any.whl.metadata (3.5 kB)\r\n",
      "Requirement already satisfied: Pillow>=4.1.1 in /Users/kim.lichtenberg/Desktop/kim-fifa/crispy-couscous/.venv/lib/python3.10/site-packages (from clearml) (10.3.0)\r\n",
      "Requirement already satisfied: psutil>=3.4.2 in /Users/kim.lichtenberg/Desktop/kim-fifa/crispy-couscous/.venv/lib/python3.10/site-packages (from clearml) (5.9.8)\r\n",
      "Requirement already satisfied: pyparsing>=2.0.3 in /Users/kim.lichtenberg/Desktop/kim-fifa/crispy-couscous/.venv/lib/python3.10/site-packages (from clearml) (3.1.2)\r\n",
      "Requirement already satisfied: python-dateutil>=2.6.1 in /Users/kim.lichtenberg/Desktop/kim-fifa/crispy-couscous/.venv/lib/python3.10/site-packages (from clearml) (2.9.0.post0)\r\n",
      "Requirement already satisfied: PyYAML>=3.12 in /Users/kim.lichtenberg/Desktop/kim-fifa/crispy-couscous/.venv/lib/python3.10/site-packages (from clearml) (6.0.1)\r\n",
      "Requirement already satisfied: requests>=2.20.0 in /Users/kim.lichtenberg/Desktop/kim-fifa/crispy-couscous/.venv/lib/python3.10/site-packages (from clearml) (2.31.0)\r\n",
      "Requirement already satisfied: six>=1.13.0 in /Users/kim.lichtenberg/Desktop/kim-fifa/crispy-couscous/.venv/lib/python3.10/site-packages (from clearml) (1.16.0)\r\n",
      "Requirement already satisfied: urllib3>=1.21.1 in /Users/kim.lichtenberg/Desktop/kim-fifa/crispy-couscous/.venv/lib/python3.10/site-packages (from clearml) (2.2.1)\r\n",
      "Collecting pyjwt<2.9.0,>=2.4.0 (from clearml)\r\n",
      "  Downloading PyJWT-2.8.0-py3-none-any.whl.metadata (4.2 kB)\r\n",
      "Requirement already satisfied: referencing<0.40 in /Users/kim.lichtenberg/Desktop/kim-fifa/crispy-couscous/.venv/lib/python3.10/site-packages (from clearml) (0.34.0)\r\n",
      "Collecting orderedmultidict>=1.0.1 (from furl>=2.0.0->clearml)\r\n",
      "  Downloading orderedmultidict-1.0.1-py2.py3-none-any.whl.metadata (1.3 kB)\r\n",
      "Requirement already satisfied: jsonschema-specifications>=2023.03.6 in /Users/kim.lichtenberg/Desktop/kim-fifa/crispy-couscous/.venv/lib/python3.10/site-packages (from jsonschema>=2.6.0->clearml) (2023.12.1)\r\n",
      "Requirement already satisfied: rpds-py>=0.7.1 in /Users/kim.lichtenberg/Desktop/kim-fifa/crispy-couscous/.venv/lib/python3.10/site-packages (from jsonschema>=2.6.0->clearml) (0.18.0)\r\n",
      "Requirement already satisfied: charset-normalizer<4,>=2 in /Users/kim.lichtenberg/Desktop/kim-fifa/crispy-couscous/.venv/lib/python3.10/site-packages (from requests>=2.20.0->clearml) (3.3.2)\r\n",
      "Requirement already satisfied: idna<4,>=2.5 in /Users/kim.lichtenberg/Desktop/kim-fifa/crispy-couscous/.venv/lib/python3.10/site-packages (from requests>=2.20.0->clearml) (2.10)\r\n",
      "Requirement already satisfied: certifi>=2017.4.17 in /Users/kim.lichtenberg/Desktop/kim-fifa/crispy-couscous/.venv/lib/python3.10/site-packages (from requests>=2.20.0->clearml) (2023.7.22)\r\n",
      "Downloading clearml-1.16.1-py2.py3-none-any.whl (1.1 MB)\r\n",
      "\u001B[2K   \u001B[90m━━━━━━━━━━━━━━━━━━━━━━━━━━━━━━━━━━━━━━━━\u001B[0m \u001B[32m1.1/1.1 MB\u001B[0m \u001B[31m5.1 MB/s\u001B[0m eta \u001B[36m0:00:00\u001B[0m00:01\u001B[0m00:01\u001B[0m\r\n",
      "\u001B[?25hDownloading furl-2.1.3-py2.py3-none-any.whl (20 kB)\r\n",
      "Downloading pathlib2-2.3.7.post1-py2.py3-none-any.whl (18 kB)\r\n",
      "Downloading PyJWT-2.8.0-py3-none-any.whl (22 kB)\r\n",
      "Downloading orderedmultidict-1.0.1-py2.py3-none-any.whl (11 kB)\r\n",
      "Installing collected packages: pyjwt, pathlib2, orderedmultidict, furl, clearml\r\n",
      "Successfully installed clearml-1.16.1 furl-2.1.3 orderedmultidict-1.0.1 pathlib2-2.3.7.post1 pyjwt-2.8.0\r\n"
     ]
    }
   ],
   "execution_count": 2
  },
  {
   "metadata": {
    "jupyter": {
     "is_executing": true
    },
    "ExecuteTime": {
     "start_time": "2024-05-23T09:11:29.639309Z"
    }
   },
   "cell_type": "code",
   "source": "!clearml-init",
   "id": "448f62b253936481",
   "outputs": [
    {
     "name": "stdout",
     "output_type": "stream",
     "text": [
      "ClearML SDK setup process\r\n",
      "\r\n",
      "Please create new clearml credentials through the settings page in your `clearml-server` web app (e.g. http://localhost:8080//settings/workspace-configuration) \r\n",
      "Or create a free account at https://app.clear.ml/settings/workspace-configuration\r\n",
      "\r\n",
      "In settings page, press \"Create new credentials\", then press \"Copy to clipboard\".\r\n",
      "\r\n",
      "Paste copied configuration here:\r\n"
     ]
    }
   ],
   "execution_count": null
  },
  {
   "metadata": {},
   "cell_type": "code",
   "outputs": [],
   "execution_count": null,
   "source": "!!python train.py --img 640 --batch 16 --epochs 100 --data /Users/kim.lichtenberg/Desktop/kim-fifa/crispy-couscous/yolov5model-training/dataset/data.yaml --weights /Users/kim.lichtenberg/Desktop/kim-fifa/crispy-couscous/yolov5model-training/model/best.pt --cache",
   "id": "initial_id"
  }
 ],
 "metadata": {
  "kernelspec": {
   "display_name": "Python 3",
   "language": "python",
   "name": "python3"
  },
  "language_info": {
   "codemirror_mode": {
    "name": "ipython",
    "version": 2
   },
   "file_extension": ".py",
   "mimetype": "text/x-python",
   "name": "python",
   "nbconvert_exporter": "python",
   "pygments_lexer": "ipython2",
   "version": "2.7.6"
  }
 },
 "nbformat": 4,
 "nbformat_minor": 5
}
